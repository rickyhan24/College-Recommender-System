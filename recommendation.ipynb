{
 "cells": [
  {
   "cell_type": "code",
   "execution_count": 1,
   "id": "0f46f281",
   "metadata": {},
   "outputs": [],
   "source": [
    "from sklearn.metrics.pairwise import euclidean_distances\n",
    "import numpy as np\n",
    "import joblib\n",
    "import pandas as pd\n",
    "\n",
    "#create a function to scale student_input using same scaler used to scale the data\n",
    "\n",
    "# student_input should look like this:\n",
    "#     student_input = {\n",
    "#     'sat_crit_read_75_pctl': 780,  # Example values\n",
    "#     'sat_math_75_pctl': 790,\n",
    "#     'tuition_fees_ft': 25000  # Example values\n",
    "# }\n",
    "\n",
    "def scale_student_input(student_input):\n",
    "    scaler = joblib.load('scaler.joblib')\n",
    "    \n",
    "    # Assuming student_input is a dictionary, convert to DataFrame for scaling\n",
    "    student_input_df = pd.DataFrame([student_input])\n",
    "    \n",
    "    # Scale the student inputs using the loaded scaler\n",
    "    scaled_student_input = scaler.transform(student_input_df)\n",
    "    scaled_student_input_df = pd.DataFrame(scaled_student_input, columns=student_input.keys(), )\n",
    "    return scaled_student_input_df\n",
    "\n",
    "#create a function that takes student_input and state and outputs a list of recommended institutions with their success scores\n",
    "\n",
    "def recommend_institutions(student_input, state):\n",
    "    # Load scaled dataset\n",
    "    df_scaled = pd.read_csv('cleaned_df_in_state.csv')\n",
    "    \n",
    "    # Scale the student's input\n",
    "    scaled_student_input = scale_student_input(student_input)\n",
    "    #features\n",
    "    features = ['sat_crit_read_75_pctl', 'sat_math_75_pctl', 'tuition_fees_ft']\n",
    "    #distances\n",
    "    distances = euclidean_distances(df_scaled[features], scaled_student_input)\n",
    "\n",
    "    # Convert distances to similarity scores\n",
    "    similarity_scores = np.exp(-distances)\n",
    "\n",
    "    # Flatten the similarity scores array if necessary\n",
    "    df_scaled['similarity_score'] = similarity_scores.flatten()\n",
    "\n",
    "    #Filter by state\n",
    "    df_scaled = df_scaled[df_scaled['state_abbr']==state]\n",
    "\n",
    "    # Sort the DataFrame based on similarity scores\n",
    "    recommended_institutions = df_scaled.sort_values(by='similarity_score', ascending=False)\n",
    "\n",
    "    # Select the top ten institutions based on similarity score\n",
    "    top_ten_institutions = recommended_institutions.head(10)\n",
    "\n",
    "    # Sort these top ten institutions by the success_score column\n",
    "    sorted_top_ten_by_success_score = top_ten_institutions.sort_values(by='success_score', ascending=False)\n",
    "    \n",
    "    # Convert to JSON (for web consumption)\n",
    "    recommendations_json = sorted_top_ten_by_success_score[['inst_name','success_score']].to_json(orient='records')\n",
    "    return recommendations_json"
   ]
  },
  {
   "cell_type": "code",
   "execution_count": 2,
   "id": "c0edde4a",
   "metadata": {},
   "outputs": [
    {
     "data": {
      "text/plain": [
       "'[{\"inst_name\":\"University of California-Berkeley\",\"success_score\":0.945},{\"inst_name\":\"University of California-San Diego\",\"success_score\":0.91},{\"inst_name\":\"University of California-Davis\",\"success_score\":0.905},{\"inst_name\":\"Soka University of America\",\"success_score\":0.905},{\"inst_name\":\"University of California-Irvine\",\"success_score\":0.9},{\"inst_name\":\"Stanford University\",\"success_score\":0.9},{\"inst_name\":\"California Polytechnic State University-San Luis Obispo\",\"success_score\":0.885},{\"inst_name\":\"University of California-Santa Barbara\",\"success_score\":0.88},{\"inst_name\":\"Thomas Aquinas College\",\"success_score\":0.865},{\"inst_name\":\"University of California-Santa Cruz\",\"success_score\":0.815}]'"
      ]
     },
     "execution_count": 2,
     "metadata": {},
     "output_type": "execute_result"
    }
   ],
   "source": []
  },
  {
   "cell_type": "code",
   "execution_count": null,
   "id": "975cacad",
   "metadata": {},
   "outputs": [],
   "source": []
  }
 ],
 "metadata": {
  "kernelspec": {
   "display_name": "Python 3 (ipykernel)",
   "language": "python",
   "name": "python3"
  },
  "language_info": {
   "codemirror_mode": {
    "name": "ipython",
    "version": 3
   },
   "file_extension": ".py",
   "mimetype": "text/x-python",
   "name": "python",
   "nbconvert_exporter": "python",
   "pygments_lexer": "ipython3",
   "version": "3.11.5"
  }
 },
 "nbformat": 4,
 "nbformat_minor": 5
}
